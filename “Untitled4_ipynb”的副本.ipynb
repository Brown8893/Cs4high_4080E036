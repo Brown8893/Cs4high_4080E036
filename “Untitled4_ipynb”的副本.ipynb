{
  "nbformat": 4,
  "nbformat_minor": 0,
  "metadata": {
    "colab": {
      "name": "“Untitled4.ipynb”的副本",
      "version": "0.3.2",
      "provenance": [],
      "include_colab_link": true
    },
    "kernelspec": {
      "name": "python3",
      "display_name": "Python 3"
    }
  },
  "cells": [
    {
      "cell_type": "markdown",
      "metadata": {
        "id": "view-in-github",
        "colab_type": "text"
      },
      "source": [
        "<a href=\"https://colab.research.google.com/github/ChengHan16/Cs4high_4080E036/blob/master/%E2%80%9CUntitled4_ipynb%E2%80%9D%E7%9A%84%E5%89%AF%E6%9C%AC.ipynb\" target=\"_parent\"><img src=\"https://colab.research.google.com/assets/colab-badge.svg\" alt=\"Open In Colab\"/></a>"
      ]
    },
    {
      "cell_type": "code",
      "metadata": {
        "id": "oS3OSzw6JLzG",
        "colab_type": "code",
        "colab": {}
      },
      "source": [
        "\n",
        "Christmas tree   \n",
        "\n",
        "    *\n",
        "   ***\n",
        "  *****\n",
        "    *\n",
        "    "
      ],
      "execution_count": 0,
      "outputs": []
    }
  ]
}